{
 "cells": [
  {
   "cell_type": "code",
   "execution_count": 1,
   "id": "7bfcb2e8",
   "metadata": {},
   "outputs": [],
   "source": [
    "from tensorflow.keras.preprocessing.text import one_hot"
   ]
  },
  {
   "cell_type": "code",
   "execution_count": 2,
   "id": "f979aa56",
   "metadata": {},
   "outputs": [],
   "source": [
    "sent = ['the glass of milk',\n",
    "         'the glass of juice',\n",
    "         'the cup of tea',\n",
    "         'I am a good boy',\n",
    "         'I am a good developer',\n",
    "         'understand the meaning of words',\n",
    "         'your videos are good']"
   ]
  },
  {
   "cell_type": "code",
   "execution_count": 3,
   "id": "8996ac22",
   "metadata": {},
   "outputs": [
    {
     "data": {
      "text/plain": [
       "['the glass of milk',\n",
       " 'the glass of juice',\n",
       " 'the cup of tea',\n",
       " 'I am a good boy',\n",
       " 'I am a good developer',\n",
       " 'understand the meaning of words',\n",
       " 'your videos are good']"
      ]
     },
     "execution_count": 3,
     "metadata": {},
     "output_type": "execute_result"
    }
   ],
   "source": [
    "sent "
   ]
  },
  {
   "cell_type": "code",
   "execution_count": 4,
   "id": "8570518c",
   "metadata": {},
   "outputs": [],
   "source": [
    "##Defining the vocabulary size\n",
    "voc_size = 10000"
   ]
  },
  {
   "cell_type": "code",
   "execution_count": 6,
   "id": "e85e3cbd",
   "metadata": {},
   "outputs": [
    {
     "data": {
      "text/plain": [
       "[[7878, 5545, 6856, 8642],\n",
       " [7878, 5545, 6856, 5392],\n",
       " [7878, 8202, 6856, 16],\n",
       " [7037, 2893, 6174, 9613, 2883],\n",
       " [7037, 2893, 6174, 9613, 9544],\n",
       " [5747, 7878, 2969, 6856, 7787],\n",
       " [1892, 5711, 7414, 9613]]"
      ]
     },
     "execution_count": 6,
     "metadata": {},
     "output_type": "execute_result"
    }
   ],
   "source": [
    "one_hot_repr= [one_hot(words,voc_size)for words in sent] \n",
    "one_hot_repr\n"
   ]
  },
  {
   "cell_type": "code",
   "execution_count": 10,
   "id": "a99f1503",
   "metadata": {},
   "outputs": [],
   "source": [
    "##word embedding Representation\n",
    "\n",
    "from tensorflow.keras.layers import Embedding \n",
    "from tensorflow.keras.models import Sequential\n",
    "from tensorflow.keras.utils import pad_sequences "
   ]
  },
  {
   "cell_type": "code",
   "execution_count": 11,
   "id": "57600f61",
   "metadata": {},
   "outputs": [],
   "source": [
    "import numpy as np"
   ]
  },
  {
   "cell_type": "code",
   "execution_count": 13,
   "id": "4755f4ca",
   "metadata": {},
   "outputs": [],
   "source": [
    "sent_length=8\n",
    "embedded_docs = pad_sequences(one_hot_repr,padding='pre',maxlen=sent_length)"
   ]
  },
  {
   "cell_type": "code",
   "execution_count": 14,
   "id": "c8d51a1e",
   "metadata": {},
   "outputs": [
    {
     "data": {
      "text/plain": [
       "array([[   0,    0,    0,    0, 7878, 5545, 6856, 8642],\n",
       "       [   0,    0,    0,    0, 7878, 5545, 6856, 5392],\n",
       "       [   0,    0,    0,    0, 7878, 8202, 6856,   16],\n",
       "       [   0,    0,    0, 7037, 2893, 6174, 9613, 2883],\n",
       "       [   0,    0,    0, 7037, 2893, 6174, 9613, 9544],\n",
       "       [   0,    0,    0, 5747, 7878, 2969, 6856, 7787],\n",
       "       [   0,    0,    0,    0, 1892, 5711, 7414, 9613]], dtype=int32)"
      ]
     },
     "execution_count": 14,
     "metadata": {},
     "output_type": "execute_result"
    }
   ],
   "source": [
    "embedded_docs"
   ]
  },
  {
   "cell_type": "code",
   "execution_count": 18,
   "id": "9cfe8d07",
   "metadata": {},
   "outputs": [],
   "source": [
    "##feature representation\n",
    "dim=10\n",
    "voc_size = 10000\n",
    "sent_length=8"
   ]
  },
  {
   "cell_type": "code",
   "execution_count": 24,
   "id": "062b021a",
   "metadata": {},
   "outputs": [
    {
     "name": "stderr",
     "output_type": "stream",
     "text": [
      "/home/adwait/anaconda3/envs/ml-env/lib/python3.10/site-packages/keras/src/layers/core/embedding.py:97: UserWarning: Argument `input_length` is deprecated. Just remove it.\n",
      "  warnings.warn(\n"
     ]
    }
   ],
   "source": [
    "model = Sequential()\n",
    "model.add(Embedding(input_dim=voc_size,output_dim=dim,input_length=sent_length))\n",
    "model.compile(optimizer='adam',loss='mse')"
   ]
  },
  {
   "cell_type": "code",
   "execution_count": 28,
   "id": "6c6fdc4b",
   "metadata": {},
   "outputs": [
    {
     "data": {
      "text/html": [
       "<pre style=\"white-space:pre;overflow-x:auto;line-height:normal;font-family:Menlo,'DejaVu Sans Mono',consolas,'Courier New',monospace\"><span style=\"font-weight: bold\">Model: \"sequential_5\"</span>\n",
       "</pre>\n"
      ],
      "text/plain": [
       "\u001b[1mModel: \"sequential_5\"\u001b[0m\n"
      ]
     },
     "metadata": {},
     "output_type": "display_data"
    },
    {
     "data": {
      "text/html": [
       "<pre style=\"white-space:pre;overflow-x:auto;line-height:normal;font-family:Menlo,'DejaVu Sans Mono',consolas,'Courier New',monospace\">┏━━━━━━━━━━━━━━━━━━━━━━━━━━━━━━━━━┳━━━━━━━━━━━━━━━━━━━━━━━━┳━━━━━━━━━━━━━━━┓\n",
       "┃<span style=\"font-weight: bold\"> Layer (type)                    </span>┃<span style=\"font-weight: bold\"> Output Shape           </span>┃<span style=\"font-weight: bold\">       Param # </span>┃\n",
       "┡━━━━━━━━━━━━━━━━━━━━━━━━━━━━━━━━━╇━━━━━━━━━━━━━━━━━━━━━━━━╇━━━━━━━━━━━━━━━┩\n",
       "│ embedding_4 (<span style=\"color: #0087ff; text-decoration-color: #0087ff\">Embedding</span>)         │ ?                      │   <span style=\"color: #00af00; text-decoration-color: #00af00\">0</span> (unbuilt) │\n",
       "└─────────────────────────────────┴────────────────────────┴───────────────┘\n",
       "</pre>\n"
      ],
      "text/plain": [
       "┏━━━━━━━━━━━━━━━━━━━━━━━━━━━━━━━━━┳━━━━━━━━━━━━━━━━━━━━━━━━┳━━━━━━━━━━━━━━━┓\n",
       "┃\u001b[1m \u001b[0m\u001b[1mLayer (type)                   \u001b[0m\u001b[1m \u001b[0m┃\u001b[1m \u001b[0m\u001b[1mOutput Shape          \u001b[0m\u001b[1m \u001b[0m┃\u001b[1m \u001b[0m\u001b[1m      Param #\u001b[0m\u001b[1m \u001b[0m┃\n",
       "┡━━━━━━━━━━━━━━━━━━━━━━━━━━━━━━━━━╇━━━━━━━━━━━━━━━━━━━━━━━━╇━━━━━━━━━━━━━━━┩\n",
       "│ embedding_4 (\u001b[38;5;33mEmbedding\u001b[0m)         │ ?                      │   \u001b[38;5;34m0\u001b[0m (unbuilt) │\n",
       "└─────────────────────────────────┴────────────────────────┴───────────────┘\n"
      ]
     },
     "metadata": {},
     "output_type": "display_data"
    },
    {
     "data": {
      "text/html": [
       "<pre style=\"white-space:pre;overflow-x:auto;line-height:normal;font-family:Menlo,'DejaVu Sans Mono',consolas,'Courier New',monospace\"><span style=\"font-weight: bold\"> Total params: </span><span style=\"color: #00af00; text-decoration-color: #00af00\">0</span> (0.00 B)\n",
       "</pre>\n"
      ],
      "text/plain": [
       "\u001b[1m Total params: \u001b[0m\u001b[38;5;34m0\u001b[0m (0.00 B)\n"
      ]
     },
     "metadata": {},
     "output_type": "display_data"
    },
    {
     "data": {
      "text/html": [
       "<pre style=\"white-space:pre;overflow-x:auto;line-height:normal;font-family:Menlo,'DejaVu Sans Mono',consolas,'Courier New',monospace\"><span style=\"font-weight: bold\"> Trainable params: </span><span style=\"color: #00af00; text-decoration-color: #00af00\">0</span> (0.00 B)\n",
       "</pre>\n"
      ],
      "text/plain": [
       "\u001b[1m Trainable params: \u001b[0m\u001b[38;5;34m0\u001b[0m (0.00 B)\n"
      ]
     },
     "metadata": {},
     "output_type": "display_data"
    },
    {
     "data": {
      "text/html": [
       "<pre style=\"white-space:pre;overflow-x:auto;line-height:normal;font-family:Menlo,'DejaVu Sans Mono',consolas,'Courier New',monospace\"><span style=\"font-weight: bold\"> Non-trainable params: </span><span style=\"color: #00af00; text-decoration-color: #00af00\">0</span> (0.00 B)\n",
       "</pre>\n"
      ],
      "text/plain": [
       "\u001b[1m Non-trainable params: \u001b[0m\u001b[38;5;34m0\u001b[0m (0.00 B)\n"
      ]
     },
     "metadata": {},
     "output_type": "display_data"
    }
   ],
   "source": [
    "model.build()\n",
    "model.summary()"
   ]
  },
  {
   "cell_type": "code",
   "execution_count": 29,
   "id": "2cf9de28",
   "metadata": {},
   "outputs": [
    {
     "name": "stderr",
     "output_type": "stream",
     "text": [
      "/home/adwait/anaconda3/envs/ml-env/lib/python3.10/site-packages/keras/src/layers/core/embedding.py:97: UserWarning: Argument `input_length` is deprecated. Just remove it.\n",
      "  warnings.warn(\n"
     ]
    },
    {
     "data": {
      "text/html": [
       "<pre style=\"white-space:pre;overflow-x:auto;line-height:normal;font-family:Menlo,'DejaVu Sans Mono',consolas,'Courier New',monospace\"><span style=\"font-weight: bold\">Model: \"sequential_6\"</span>\n",
       "</pre>\n"
      ],
      "text/plain": [
       "\u001b[1mModel: \"sequential_6\"\u001b[0m\n"
      ]
     },
     "metadata": {},
     "output_type": "display_data"
    },
    {
     "data": {
      "text/html": [
       "<pre style=\"white-space:pre;overflow-x:auto;line-height:normal;font-family:Menlo,'DejaVu Sans Mono',consolas,'Courier New',monospace\">┏━━━━━━━━━━━━━━━━━━━━━━━━━━━━━━━━━┳━━━━━━━━━━━━━━━━━━━━━━━━┳━━━━━━━━━━━━━━━┓\n",
       "┃<span style=\"font-weight: bold\"> Layer (type)                    </span>┃<span style=\"font-weight: bold\"> Output Shape           </span>┃<span style=\"font-weight: bold\">       Param # </span>┃\n",
       "┡━━━━━━━━━━━━━━━━━━━━━━━━━━━━━━━━━╇━━━━━━━━━━━━━━━━━━━━━━━━╇━━━━━━━━━━━━━━━┩\n",
       "│ embedding_5 (<span style=\"color: #0087ff; text-decoration-color: #0087ff\">Embedding</span>)         │ (<span style=\"color: #00d7ff; text-decoration-color: #00d7ff\">None</span>, <span style=\"color: #00af00; text-decoration-color: #00af00\">8</span>, <span style=\"color: #00af00; text-decoration-color: #00af00\">10</span>)          │       <span style=\"color: #00af00; text-decoration-color: #00af00\">100,000</span> │\n",
       "└─────────────────────────────────┴────────────────────────┴───────────────┘\n",
       "</pre>\n"
      ],
      "text/plain": [
       "┏━━━━━━━━━━━━━━━━━━━━━━━━━━━━━━━━━┳━━━━━━━━━━━━━━━━━━━━━━━━┳━━━━━━━━━━━━━━━┓\n",
       "┃\u001b[1m \u001b[0m\u001b[1mLayer (type)                   \u001b[0m\u001b[1m \u001b[0m┃\u001b[1m \u001b[0m\u001b[1mOutput Shape          \u001b[0m\u001b[1m \u001b[0m┃\u001b[1m \u001b[0m\u001b[1m      Param #\u001b[0m\u001b[1m \u001b[0m┃\n",
       "┡━━━━━━━━━━━━━━━━━━━━━━━━━━━━━━━━━╇━━━━━━━━━━━━━━━━━━━━━━━━╇━━━━━━━━━━━━━━━┩\n",
       "│ embedding_5 (\u001b[38;5;33mEmbedding\u001b[0m)         │ (\u001b[38;5;45mNone\u001b[0m, \u001b[38;5;34m8\u001b[0m, \u001b[38;5;34m10\u001b[0m)          │       \u001b[38;5;34m100,000\u001b[0m │\n",
       "└─────────────────────────────────┴────────────────────────┴───────────────┘\n"
      ]
     },
     "metadata": {},
     "output_type": "display_data"
    },
    {
     "data": {
      "text/html": [
       "<pre style=\"white-space:pre;overflow-x:auto;line-height:normal;font-family:Menlo,'DejaVu Sans Mono',consolas,'Courier New',monospace\"><span style=\"font-weight: bold\"> Total params: </span><span style=\"color: #00af00; text-decoration-color: #00af00\">100,000</span> (390.62 KB)\n",
       "</pre>\n"
      ],
      "text/plain": [
       "\u001b[1m Total params: \u001b[0m\u001b[38;5;34m100,000\u001b[0m (390.62 KB)\n"
      ]
     },
     "metadata": {},
     "output_type": "display_data"
    },
    {
     "data": {
      "text/html": [
       "<pre style=\"white-space:pre;overflow-x:auto;line-height:normal;font-family:Menlo,'DejaVu Sans Mono',consolas,'Courier New',monospace\"><span style=\"font-weight: bold\"> Trainable params: </span><span style=\"color: #00af00; text-decoration-color: #00af00\">100,000</span> (390.62 KB)\n",
       "</pre>\n"
      ],
      "text/plain": [
       "\u001b[1m Trainable params: \u001b[0m\u001b[38;5;34m100,000\u001b[0m (390.62 KB)\n"
      ]
     },
     "metadata": {},
     "output_type": "display_data"
    },
    {
     "data": {
      "text/html": [
       "<pre style=\"white-space:pre;overflow-x:auto;line-height:normal;font-family:Menlo,'DejaVu Sans Mono',consolas,'Courier New',monospace\"><span style=\"font-weight: bold\"> Non-trainable params: </span><span style=\"color: #00af00; text-decoration-color: #00af00\">0</span> (0.00 B)\n",
       "</pre>\n"
      ],
      "text/plain": [
       "\u001b[1m Non-trainable params: \u001b[0m\u001b[38;5;34m0\u001b[0m (0.00 B)\n"
      ]
     },
     "metadata": {},
     "output_type": "display_data"
    }
   ],
   "source": [
    "from keras.models import Sequential\n",
    "from keras.layers import Embedding\n",
    "\n",
    "voc_size = 10000\n",
    "sent_length = 8\n",
    "dim = 10\n",
    "\n",
    "model = Sequential()\n",
    "model.add(Embedding(input_dim=voc_size, output_dim=dim, input_length=sent_length))\n",
    "model.compile(optimizer='adam', loss='mse')\n",
    "\n",
    "model.build(input_shape=(None, sent_length))  # 👈 Add this line\n",
    "model.summary()\n"
   ]
  },
  {
   "cell_type": "code",
   "execution_count": 34,
   "id": "5696f945",
   "metadata": {},
   "outputs": [
    {
     "name": "stdout",
     "output_type": "stream",
     "text": [
      "\u001b[1m1/1\u001b[0m \u001b[32m━━━━━━━━━━━━━━━━━━━━\u001b[0m\u001b[37m\u001b[0m \u001b[1m0s\u001b[0m 43ms/step\n"
     ]
    },
    {
     "data": {
      "text/plain": [
       "array([[[ 0.0368922 , -0.01563405,  0.03348893,  0.00679849,\n",
       "          0.04804474, -0.03072928,  0.04009057, -0.03594692,\n",
       "         -0.03595371, -0.00259978],\n",
       "        [ 0.0368922 , -0.01563405,  0.03348893,  0.00679849,\n",
       "          0.04804474, -0.03072928,  0.04009057, -0.03594692,\n",
       "         -0.03595371, -0.00259978],\n",
       "        [ 0.0368922 , -0.01563405,  0.03348893,  0.00679849,\n",
       "          0.04804474, -0.03072928,  0.04009057, -0.03594692,\n",
       "         -0.03595371, -0.00259978],\n",
       "        [ 0.0368922 , -0.01563405,  0.03348893,  0.00679849,\n",
       "          0.04804474, -0.03072928,  0.04009057, -0.03594692,\n",
       "         -0.03595371, -0.00259978],\n",
       "        [ 0.02141911, -0.00860053,  0.01343649, -0.01321504,\n",
       "          0.04868761, -0.04508984, -0.03090769,  0.04221033,\n",
       "         -0.03535239,  0.03636828],\n",
       "        [ 0.03174071,  0.03738989,  0.01910364, -0.00905437,\n",
       "          0.00653889, -0.02670186,  0.02685453,  0.03736421,\n",
       "          0.04846377, -0.00555839],\n",
       "        [-0.03958293,  0.04603299, -0.00577984, -0.02663453,\n",
       "          0.00222242,  0.02494121, -0.03312203,  0.03660611,\n",
       "         -0.03662395, -0.00370349],\n",
       "        [-0.01636006,  0.00486173, -0.04020207,  0.02131305,\n",
       "          0.01893196, -0.01338303, -0.03282797,  0.02717234,\n",
       "         -0.02220736,  0.04232586]],\n",
       "\n",
       "       [[ 0.0368922 , -0.01563405,  0.03348893,  0.00679849,\n",
       "          0.04804474, -0.03072928,  0.04009057, -0.03594692,\n",
       "         -0.03595371, -0.00259978],\n",
       "        [ 0.0368922 , -0.01563405,  0.03348893,  0.00679849,\n",
       "          0.04804474, -0.03072928,  0.04009057, -0.03594692,\n",
       "         -0.03595371, -0.00259978],\n",
       "        [ 0.0368922 , -0.01563405,  0.03348893,  0.00679849,\n",
       "          0.04804474, -0.03072928,  0.04009057, -0.03594692,\n",
       "         -0.03595371, -0.00259978],\n",
       "        [ 0.0368922 , -0.01563405,  0.03348893,  0.00679849,\n",
       "          0.04804474, -0.03072928,  0.04009057, -0.03594692,\n",
       "         -0.03595371, -0.00259978],\n",
       "        [ 0.02141911, -0.00860053,  0.01343649, -0.01321504,\n",
       "          0.04868761, -0.04508984, -0.03090769,  0.04221033,\n",
       "         -0.03535239,  0.03636828],\n",
       "        [ 0.03174071,  0.03738989,  0.01910364, -0.00905437,\n",
       "          0.00653889, -0.02670186,  0.02685453,  0.03736421,\n",
       "          0.04846377, -0.00555839],\n",
       "        [-0.03958293,  0.04603299, -0.00577984, -0.02663453,\n",
       "          0.00222242,  0.02494121, -0.03312203,  0.03660611,\n",
       "         -0.03662395, -0.00370349],\n",
       "        [ 0.03061433,  0.01527425, -0.0100237 , -0.04706392,\n",
       "          0.0266074 , -0.02229505,  0.03663957, -0.00728941,\n",
       "         -0.00400176, -0.02860855]],\n",
       "\n",
       "       [[ 0.0368922 , -0.01563405,  0.03348893,  0.00679849,\n",
       "          0.04804474, -0.03072928,  0.04009057, -0.03594692,\n",
       "         -0.03595371, -0.00259978],\n",
       "        [ 0.0368922 , -0.01563405,  0.03348893,  0.00679849,\n",
       "          0.04804474, -0.03072928,  0.04009057, -0.03594692,\n",
       "         -0.03595371, -0.00259978],\n",
       "        [ 0.0368922 , -0.01563405,  0.03348893,  0.00679849,\n",
       "          0.04804474, -0.03072928,  0.04009057, -0.03594692,\n",
       "         -0.03595371, -0.00259978],\n",
       "        [ 0.0368922 , -0.01563405,  0.03348893,  0.00679849,\n",
       "          0.04804474, -0.03072928,  0.04009057, -0.03594692,\n",
       "         -0.03595371, -0.00259978],\n",
       "        [ 0.02141911, -0.00860053,  0.01343649, -0.01321504,\n",
       "          0.04868761, -0.04508984, -0.03090769,  0.04221033,\n",
       "         -0.03535239,  0.03636828],\n",
       "        [ 0.02482152,  0.02072359,  0.04962845, -0.04371102,\n",
       "         -0.02398936, -0.02374687, -0.02405426, -0.0287139 ,\n",
       "         -0.02980852, -0.00702592],\n",
       "        [-0.03958293,  0.04603299, -0.00577984, -0.02663453,\n",
       "          0.00222242,  0.02494121, -0.03312203,  0.03660611,\n",
       "         -0.03662395, -0.00370349],\n",
       "        [ 0.0425542 ,  0.02458291,  0.01239001, -0.0037292 ,\n",
       "         -0.03183834,  0.04602529,  0.00347101, -0.01064108,\n",
       "         -0.0154332 , -0.022695  ]],\n",
       "\n",
       "       [[ 0.0368922 , -0.01563405,  0.03348893,  0.00679849,\n",
       "          0.04804474, -0.03072928,  0.04009057, -0.03594692,\n",
       "         -0.03595371, -0.00259978],\n",
       "        [ 0.0368922 , -0.01563405,  0.03348893,  0.00679849,\n",
       "          0.04804474, -0.03072928,  0.04009057, -0.03594692,\n",
       "         -0.03595371, -0.00259978],\n",
       "        [ 0.0368922 , -0.01563405,  0.03348893,  0.00679849,\n",
       "          0.04804474, -0.03072928,  0.04009057, -0.03594692,\n",
       "         -0.03595371, -0.00259978],\n",
       "        [-0.01282059,  0.04766298,  0.00985331, -0.02331352,\n",
       "          0.03263327,  0.01160841, -0.00978654,  0.01718476,\n",
       "          0.02581074, -0.01547086],\n",
       "        [-0.0351548 ,  0.0359357 , -0.01420457, -0.01388655,\n",
       "          0.0006647 ,  0.00753444, -0.0039229 ,  0.04885076,\n",
       "         -0.04595895,  0.00366769],\n",
       "        [-0.00158954, -0.00799114,  0.03300173,  0.01179173,\n",
       "          0.01163356, -0.04203169, -0.02318038,  0.03851673,\n",
       "         -0.0281456 , -0.04722873],\n",
       "        [ 0.03075185, -0.0114472 ,  0.01670984, -0.04324121,\n",
       "          0.01544863, -0.04759571,  0.04344353, -0.04709825,\n",
       "         -0.04699291,  0.01134081],\n",
       "        [ 0.0443884 ,  0.02884022,  0.00488437, -0.0197342 ,\n",
       "         -0.02701371, -0.03992339,  0.00117218, -0.04363835,\n",
       "          0.04968457,  0.04852169]],\n",
       "\n",
       "       [[ 0.0368922 , -0.01563405,  0.03348893,  0.00679849,\n",
       "          0.04804474, -0.03072928,  0.04009057, -0.03594692,\n",
       "         -0.03595371, -0.00259978],\n",
       "        [ 0.0368922 , -0.01563405,  0.03348893,  0.00679849,\n",
       "          0.04804474, -0.03072928,  0.04009057, -0.03594692,\n",
       "         -0.03595371, -0.00259978],\n",
       "        [ 0.0368922 , -0.01563405,  0.03348893,  0.00679849,\n",
       "          0.04804474, -0.03072928,  0.04009057, -0.03594692,\n",
       "         -0.03595371, -0.00259978],\n",
       "        [-0.01282059,  0.04766298,  0.00985331, -0.02331352,\n",
       "          0.03263327,  0.01160841, -0.00978654,  0.01718476,\n",
       "          0.02581074, -0.01547086],\n",
       "        [-0.0351548 ,  0.0359357 , -0.01420457, -0.01388655,\n",
       "          0.0006647 ,  0.00753444, -0.0039229 ,  0.04885076,\n",
       "         -0.04595895,  0.00366769],\n",
       "        [-0.00158954, -0.00799114,  0.03300173,  0.01179173,\n",
       "          0.01163356, -0.04203169, -0.02318038,  0.03851673,\n",
       "         -0.0281456 , -0.04722873],\n",
       "        [ 0.03075185, -0.0114472 ,  0.01670984, -0.04324121,\n",
       "          0.01544863, -0.04759571,  0.04344353, -0.04709825,\n",
       "         -0.04699291,  0.01134081],\n",
       "        [ 0.04410749,  0.02096797, -0.02372468, -0.01578892,\n",
       "         -0.03508432, -0.0441033 , -0.02814918, -0.03447529,\n",
       "          0.01263995,  0.00639481]],\n",
       "\n",
       "       [[ 0.0368922 , -0.01563405,  0.03348893,  0.00679849,\n",
       "          0.04804474, -0.03072928,  0.04009057, -0.03594692,\n",
       "         -0.03595371, -0.00259978],\n",
       "        [ 0.0368922 , -0.01563405,  0.03348893,  0.00679849,\n",
       "          0.04804474, -0.03072928,  0.04009057, -0.03594692,\n",
       "         -0.03595371, -0.00259978],\n",
       "        [ 0.0368922 , -0.01563405,  0.03348893,  0.00679849,\n",
       "          0.04804474, -0.03072928,  0.04009057, -0.03594692,\n",
       "         -0.03595371, -0.00259978],\n",
       "        [-0.01183337,  0.04231444, -0.03163026, -0.01680659,\n",
       "         -0.00539037, -0.04455331, -0.03732848, -0.0285243 ,\n",
       "          0.01195649,  0.03153931],\n",
       "        [ 0.02141911, -0.00860053,  0.01343649, -0.01321504,\n",
       "          0.04868761, -0.04508984, -0.03090769,  0.04221033,\n",
       "         -0.03535239,  0.03636828],\n",
       "        [-0.03963629,  0.02772324, -0.0494787 , -0.01379546,\n",
       "         -0.0390067 ,  0.01366999, -0.04766203,  0.04767481,\n",
       "         -0.02806188, -0.04966178],\n",
       "        [-0.03958293,  0.04603299, -0.00577984, -0.02663453,\n",
       "          0.00222242,  0.02494121, -0.03312203,  0.03660611,\n",
       "         -0.03662395, -0.00370349],\n",
       "        [-0.0102599 , -0.01897264, -0.03266708,  0.04512328,\n",
       "         -0.01343222,  0.03556481,  0.01378732,  0.03478937,\n",
       "          0.01892148,  0.01414815]],\n",
       "\n",
       "       [[ 0.0368922 , -0.01563405,  0.03348893,  0.00679849,\n",
       "          0.04804474, -0.03072928,  0.04009057, -0.03594692,\n",
       "         -0.03595371, -0.00259978],\n",
       "        [ 0.0368922 , -0.01563405,  0.03348893,  0.00679849,\n",
       "          0.04804474, -0.03072928,  0.04009057, -0.03594692,\n",
       "         -0.03595371, -0.00259978],\n",
       "        [ 0.0368922 , -0.01563405,  0.03348893,  0.00679849,\n",
       "          0.04804474, -0.03072928,  0.04009057, -0.03594692,\n",
       "         -0.03595371, -0.00259978],\n",
       "        [ 0.0368922 , -0.01563405,  0.03348893,  0.00679849,\n",
       "          0.04804474, -0.03072928,  0.04009057, -0.03594692,\n",
       "         -0.03595371, -0.00259978],\n",
       "        [ 0.00185418,  0.03092546,  0.02121537, -0.04490307,\n",
       "          0.04765541, -0.04974698,  0.02903977, -0.02281054,\n",
       "          0.0101374 ,  0.00520138],\n",
       "        [ 0.01981998, -0.04684285,  0.01076097,  0.02749724,\n",
       "          0.03832113, -0.00124005, -0.00762581, -0.02336515,\n",
       "         -0.03803189, -0.01556929],\n",
       "        [ 0.03928207,  0.04255738, -0.0245636 , -0.01770035,\n",
       "         -0.04622859,  0.04299421, -0.00708212, -0.0423541 ,\n",
       "         -0.02759841,  0.02813606],\n",
       "        [ 0.03075185, -0.0114472 ,  0.01670984, -0.04324121,\n",
       "          0.01544863, -0.04759571,  0.04344353, -0.04709825,\n",
       "         -0.04699291,  0.01134081]]], dtype=float32)"
      ]
     },
     "execution_count": 34,
     "metadata": {},
     "output_type": "execute_result"
    }
   ],
   "source": [
    "model.predict(embedded_docs)"
   ]
  },
  {
   "cell_type": "code",
   "execution_count": 32,
   "id": "c87c6dba",
   "metadata": {},
   "outputs": [
    {
     "data": {
      "text/plain": [
       "array([   0,    0,    0,    0, 7878, 5545, 6856, 8642], dtype=int32)"
      ]
     },
     "execution_count": 32,
     "metadata": {},
     "output_type": "execute_result"
    }
   ],
   "source": [
    "embedded_docs[0]"
   ]
  },
  {
   "cell_type": "code",
   "execution_count": null,
   "id": "0fbaaedd",
   "metadata": {},
   "outputs": [],
   "source": []
  }
 ],
 "metadata": {
  "kernelspec": {
   "display_name": "ml-env",
   "language": "python",
   "name": "python3"
  },
  "language_info": {
   "codemirror_mode": {
    "name": "ipython",
    "version": 3
   },
   "file_extension": ".py",
   "mimetype": "text/x-python",
   "name": "python",
   "nbconvert_exporter": "python",
   "pygments_lexer": "ipython3",
   "version": "3.10.18"
  }
 },
 "nbformat": 4,
 "nbformat_minor": 5
}
